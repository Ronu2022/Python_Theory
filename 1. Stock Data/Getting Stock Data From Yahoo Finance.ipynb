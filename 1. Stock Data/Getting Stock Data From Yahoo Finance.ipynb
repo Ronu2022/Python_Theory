pip install --upgrade numpy
pip install yfinance
import yfinance as yf
apple_data = yf.download('AAPL', period = 'max')

apple_data.to_csv('apple_data_stocks.csv')
