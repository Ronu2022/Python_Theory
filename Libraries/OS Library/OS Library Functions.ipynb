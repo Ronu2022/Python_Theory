{
 "cells": [
  {
   "cell_type": "markdown",
   "metadata": {},
   "source": [
    "# OS LIBRARY"
   ]
  },
  {
   "cell_type": "markdown",
   "metadata": {},
   "source": [
    "## 1. os.getcwd()\n",
    "\n",
    "- eturns the current working directory."
   ]
  },
  {
   "cell_type": "code",
   "execution_count": 1,
   "metadata": {},
   "outputs": [
    {
     "name": "stdout",
     "output_type": "stream",
     "text": [
      "/Users/distinctiveepiphany/Spring Projects/Metro2 Project\n"
     ]
    }
   ],
   "source": [
    "import os\n",
    "\n",
    "cur_dir = os.getcwd()\n",
    "\n",
    "print(cur_dir)"
   ]
  },
  {
   "cell_type": "markdown",
   "metadata": {},
   "source": [
    "## 2. os.chdir(path)\n",
    "-  changes the current working directory to the specified path."
   ]
  },
  {
   "cell_type": "code",
   "execution_count": null,
   "metadata": {},
   "outputs": [],
   "source": [
    "# DON'T RUN\n",
    "\n",
    "import os\n",
    "new_path = ''\n",
    "\n",
    "os.chdir(new_path)\n",
    "\n",
    "changed_path = os.getcwd()\n",
    "\n",
    "print(f'The Changed path : {changed_path})"
   ]
  },
  {
   "cell_type": "code",
   "execution_count": 2,
   "metadata": {},
   "outputs": [
    {
     "data": {
      "text/plain": [
       "'/Users/distinctiveepiphany/Spring Projects/Metro2 Project'"
      ]
     },
     "execution_count": 2,
     "metadata": {},
     "output_type": "execute_result"
    }
   ],
   "source": [
    "os.getcwd()\n"
   ]
  },
  {
   "cell_type": "markdown",
   "metadata": {},
   "source": [
    "## 3. os.listdir(path):\n",
    "- This function lists all files and directories in the specified path."
   ]
  },
  {
   "cell_type": "code",
   "execution_count": 5,
   "metadata": {},
   "outputs": [
    {
     "name": "stdout",
     "output_type": "stream",
     "text": [
      "The current directory is /Users/distinctiveepiphany/Spring Projects/Metro2 Project '|' The files in the directory are: ['retail_python_script.py', 'Untitled10.ipynb', 'Untitled7.ipynb', 'Music', '2.5 Tuple, Set and Dictionary(Tuple,Dictionary) 2.py', '.condarc', '.docker', 'Untitled12.ipynb', 'Code Basics Python', 'Untitled5.ipynb', 'Lecture 3 Starting with Variables.ipynb', 'Python Practise', 'Untitled1.ipynb', '.DS_Store', '2.4 Tuple, Set and Dictionary(List) 1 (2).py', '.CFUserTextEncoding', '2.4 Tuple, Set and Dictionary(List) 1 (1).py', 'Untitled3.ipynb', 'Untitled.ipynb', '.zshrc', '2.4 Tuple, Set and Dictionary(List) 1.py', 'Credit Card  EDA - Final.ipynb', 'Untitled4.ipynb', 'Untitled13.ipynb', 'BASICS OF PYTHON.ipynb', 'Untitled6.ipynb', 'Pictures', '.pylint.d', 'Hotel Crystal Urban Park Cancellation.ipynb', 'Untitled11.ipynb', '.zprofile', 'RETAIL_EDA.ipynb', 'apple_data_stocks.csv', 'Confidence Interval & Hypothesis Testing-3.ipynb', '.zsh_history', 'Untitled2.ipynb', '.ipython', 'Desktop', 'Library', '.matplotlib', 'Data Cleaning_Complete-2-3.ipynb', '.spyder-py3', 'Retail Sales EDA.ipynb', 'seaborn-data', 'Public', '1_Notebook_CreditDefault_v3.ipynb', 'Beginning.ipynb', '.idlerc', 'dump.sql', '.anaconda', 'Hackathon-1(Questions) 2-2.ipynb', 'Untitled8.ipynb', 'Movies', 'Applications', 'CREDIT CARD PROJECT.ipynb', 'opt', 'Lecture 4: Variables in Python.ipynb', '.Trash', '.ipynb_checkpoints', '.jupyter', 'Spring Projects', 'sp500_stock.csv', 'Documents', '.azuredatastudio', 'apple_data_stocks.xls', 'Lecture 5 List in Python.ipynb', '.mysql_history', '.vscode', 'SEABORN PLOTS.ipynb', '.bash_profile', 'sp500.csv', 'Downloads', 'Untitled9.ipynb', '.viminfo', '.zsh_sessions', 'CREDIT ANALYSIS PROJECT.ipynb', '.conda', 'Stocks Price EDA(Time Series Analysis).ipynb.zip']\n"
     ]
    }
   ],
   "source": [
    "import os\n",
    "\n",
    "cd = os.getcwd()\n",
    "\n",
    "files_dir = os.listdir('/Users/distinctiveepiphany/')\n",
    "\n",
    "print(f\"The current directory is {cd} '|' The files in the directory are: {files_dir}\")"
   ]
  },
  {
   "cell_type": "markdown",
   "metadata": {},
   "source": [
    "## 4. os.mkdir(path):\n",
    "\n",
    "- creates a new directory at the specified path.\n",
    "\n"
   ]
  },
  {
   "cell_type": "code",
   "execution_count": null,
   "metadata": {},
   "outputs": [],
   "source": [
    "# DONT RUN!!\n",
    "\n",
    "import os \n",
    "\n",
    "new_dir_path = '/path/to/new_directory'  # Replace with an actual path\n",
    "\n",
    "# creating new dir:\n",
    "\n",
    "os.makedir(new_dir_path)"
   ]
  },
  {
   "cell_type": "markdown",
   "metadata": {},
   "source": [
    "# 5. os.rmdir(path)\n",
    "\n",
    "- This function removes a directory at the specified path. Note that the directory must be empty.\n",
    "\n"
   ]
  },
  {
   "cell_type": "code",
   "execution_count": null,
   "metadata": {},
   "outputs": [],
   "source": [
    "# DON'T RUN!!\n",
    "\n",
    "import os \n",
    "\n",
    "direc_to_remove_path = '/path/to/directory_to_remove'  # Replace with an actual path\n",
    "\n",
    "os.rmdir(direc_to_remove_path)"
   ]
  },
  {
   "cell_type": "markdown",
   "metadata": {},
   "source": [
    "## 6. os.remove(path):\n",
    "\n",
    "- This function deletes a file at the specified path.\n",
    "\n",
    "\n"
   ]
  },
  {
   "cell_type": "code",
   "execution_count": null,
   "metadata": {},
   "outputs": [],
   "source": [
    "# DON'T RUN!!\n",
    "\n",
    "import os \n",
    "\n",
    "file_to_remove_path = '/path/to/file_to_remove.txt' # Replace with an actual file path\n",
    "\n",
    "\n",
    "os.remove(file_to_remove_path)"
   ]
  },
  {
   "cell_type": "code",
   "execution_count": null,
   "metadata": {},
   "outputs": [],
   "source": [
    "os.gcwd()\n",
    "os.chdir()\n",
    "os.listdir()\n",
    "os.mkdir()\n",
    "os.rmdir()\n",
    "os.remove()\n"
   ]
  },
  {
   "cell_type": "code",
   "execution_count": 7,
   "metadata": {},
   "outputs": [
    {
     "data": {
      "text/plain": [
       "'/Users/distinctiveepiphany/Spring Projects/Metro2 Project'"
      ]
     },
     "execution_count": 7,
     "metadata": {},
     "output_type": "execute_result"
    }
   ],
   "source": [
    "os.getcwd()"
   ]
  },
  {
   "cell_type": "markdown",
   "metadata": {},
   "source": [
    "# os.path.exists(path)\n",
    "\n",
    "- checks if a path exists (either file or directory)."
   ]
  },
  {
   "cell_type": "code",
   "execution_count": 8,
   "metadata": {},
   "outputs": [
    {
     "data": {
      "text/plain": [
       "True"
      ]
     },
     "execution_count": 8,
     "metadata": {},
     "output_type": "execute_result"
    }
   ],
   "source": [
    "import os \n",
    "os.path.exists(os.getcwd())"
   ]
  },
  {
   "cell_type": "code",
   "execution_count": null,
   "metadata": {},
   "outputs": [],
   "source": [
    "os.getcwd()\n",
    "os.chdir()\n",
    "os.listdir()\n",
    "os.mkdir()\n",
    "os.rmdir()\n",
    "os.remove()\n",
    "os.path.exists()\n"
   ]
  },
  {
   "cell_type": "markdown",
   "metadata": {},
   "source": [
    "## 8. os.path.isfile(path)\n",
    "\n",
    "- This function checks if the specified path is a file."
   ]
  },
  {
   "cell_type": "code",
   "execution_count": 10,
   "metadata": {},
   "outputs": [
    {
     "data": {
      "text/plain": [
       "'/Users/distinctiveepiphany/Spring Projects/Metro2 Project'"
      ]
     },
     "execution_count": 10,
     "metadata": {},
     "output_type": "execute_result"
    }
   ],
   "source": [
    "os.getcwd()"
   ]
  },
  {
   "cell_type": "code",
   "execution_count": 11,
   "metadata": {},
   "outputs": [
    {
     "data": {
      "text/plain": [
       "False"
      ]
     },
     "execution_count": 11,
     "metadata": {},
     "output_type": "execute_result"
    }
   ],
   "source": [
    "os.path.isfile(os.getcwd())"
   ]
  },
  {
   "cell_type": "code",
   "execution_count": 12,
   "metadata": {},
   "outputs": [
    {
     "ename": "SyntaxError",
     "evalue": "invalid syntax (<ipython-input-12-09d4214343d6>, line 1)",
     "output_type": "error",
     "traceback": [
      "\u001b[0;36m  File \u001b[0;32m\"<ipython-input-12-09d4214343d6>\"\u001b[0;36m, line \u001b[0;32m1\u001b[0m\n\u001b[0;31m    os.path.\u001b[0m\n\u001b[0m            ^\u001b[0m\n\u001b[0;31mSyntaxError\u001b[0m\u001b[0;31m:\u001b[0m invalid syntax\n"
     ]
    }
   ],
   "source": [
    "os.path."
   ]
  },
  {
   "cell_type": "markdown",
   "metadata": {},
   "source": [
    "# 9 os.path.isdir(path):\n",
    "\n",
    "- checks if the specified path is a directory.\n"
   ]
  },
  {
   "cell_type": "code",
   "execution_count": 13,
   "metadata": {},
   "outputs": [
    {
     "data": {
      "text/plain": [
       "True"
      ]
     },
     "execution_count": 13,
     "metadata": {},
     "output_type": "execute_result"
    }
   ],
   "source": [
    "os.path.isdir(os.getcwd())"
   ]
  },
  {
   "cell_type": "markdown",
   "metadata": {},
   "source": [
    "## 10. os.path.join(path, *paths)\n",
    "\n",
    "-  function joins one or more path components intelligently.\n",
    "- *paths: imply any other branches, subdirectory, etc.\n",
    "\n"
   ]
  },
  {
   "cell_type": "code",
   "execution_count": null,
   "metadata": {},
   "outputs": [],
   "source": [
    "# Don't RUN!!\n",
    "\n",
    "directory = '/path/to/directory'  # Replace with an actual directory path\n",
    "file_name = 'file.txt'  # Replace with an actual file name\n",
    "\n",
    "full_path = os.path.join(directory,file_name)\n",
    "\n",
    "print(f'The path is: {full_path}')\n",
    "\n"
   ]
  },
  {
   "cell_type": "markdown",
   "metadata": {},
   "source": [
    "# 11. os.path.slit(path):\n",
    "\n",
    "- splits teh path into 2 parts: \n",
    "        - a. head: everything before the last slash.\n",
    "        - b. tail: last part of the path.\n",
    "- so kind of splits the path into a tuple containing the directory and the file_name\n",
    "\n",
    "        \n",
    "            "
   ]
  },
  {
   "cell_type": "code",
   "execution_count": 15,
   "metadata": {},
   "outputs": [
    {
     "name": "stdout",
     "output_type": "stream",
     "text": [
      "The Directory is : /Users/distinctiveepiphany/Spring Projects\n",
      "The File_name is : Metro2 Project\n"
     ]
    }
   ],
   "source": [
    "path = os.getcwd()\n",
    "\n",
    "head, tail = os.path.split(path)\n",
    "\n",
    "print(f'The Directory is : {head}')\n",
    "print(f'The File_name is : {tail}')\n"
   ]
  },
  {
   "cell_type": "code",
   "execution_count": 16,
   "metadata": {},
   "outputs": [
    {
     "data": {
      "text/plain": [
       "'/Users/distinctiveepiphany/Spring Projects/Metro2 Project'"
      ]
     },
     "execution_count": 16,
     "metadata": {},
     "output_type": "execute_result"
    }
   ],
   "source": [
    "os.getcwd()"
   ]
  },
  {
   "cell_type": "code",
   "execution_count": null,
   "metadata": {},
   "outputs": [],
   "source": []
  }
 ],
 "metadata": {
  "kernelspec": {
   "display_name": "Python 3",
   "language": "python",
   "name": "python3"
  },
  "language_info": {
   "codemirror_mode": {
    "name": "ipython",
    "version": 3
   },
   "file_extension": ".py",
   "mimetype": "text/x-python",
   "name": "python",
   "nbconvert_exporter": "python",
   "pygments_lexer": "ipython3",
   "version": "3.8.5"
  }
 },
 "nbformat": 4,
 "nbformat_minor": 4
}
